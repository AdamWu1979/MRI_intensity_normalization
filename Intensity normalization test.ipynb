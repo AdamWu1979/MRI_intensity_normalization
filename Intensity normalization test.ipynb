{
 "cells": [
  {
   "cell_type": "markdown",
   "metadata": {},
   "source": [
    "# MRI intensity normalization\n",
    "\n",
    "Intensity normalization of multi-channel MRI images using the method proposed by [Nyul et al. 2000](http://ieeexplore.ieee.org/lpdocs/epic03/wrapper.htm?arnumber=836373).\n",
    "In the original paper, the authors suggest a method where a set of standard histogram landmarks are learned from a set of MRI images. These landmarks are then used to equalize the histograms of the images to normalize. In both learning and transformation, the histograms are used to find the intensity landmarks. \n",
    "\n",
    "## Ackwoledgements: \n",
    "* The Python implementation is based on the awesome implementation available here [Reinhold et al. 2019](https://github.com/jcreinhold/intensity-normalization). \n",
    "* For this particular tutorial, we use a very small subset from the [Calgary-Campinas dataset](https://sites.google.com/view/calgary-campinas-dataset/home/download)."
   ]
  },
  {
   "cell_type": "markdown",
   "metadata": {},
   "source": [
    "## Train the standard histogram:\n",
    "To train the standard histogram, we just have to create a list of the input images to process. Optionally, we can also provide the brainmasks:"
   ]
  },
  {
   "cell_type": "code",
   "execution_count": 1,
   "metadata": {},
   "outputs": [],
   "source": [
    "import os\n",
    "import numpy as np\n",
    "import nibabel as nib\n",
    "from nyul import nyul_train_standard_scale\n",
    "  \n",
    "DATA_DIR = 'data_examples'\n",
    "T1_name = 'T1.nii.gz'\n",
    "MASK_name = 'brainmask.nii.gz'\n",
    "\n",
    "# generate training scans\n",
    "train_scans = [os.path.join(DATA_DIR, folder, T1_name)\n",
    "               for folder in os.listdir(DATA_DIR)]\n",
    "mask_scans = [os.path.join(DATA_DIR, folder, MASK_name)\n",
    "              for folder in os.listdir(DATA_DIR)]"
   ]
  },
  {
   "cell_type": "markdown",
   "metadata": {},
   "source": [
    "Then, the train the standard histogram. By default, the parameters are set as follows:\n",
    "* Minimum percentile to consider `i_min=1`\n",
    "* Maximum percentile to consider `i_max=99`\n",
    "* Minimum percentile on the standard histogram `i_s_min=1`\n",
    "* Maximum percentile on the standard histogram `i_s_max=100`\n",
    "* Middle percentile lower bound `l_percentile=10`\n",
    "* Middle percentile upped bound `u_percentile=90`\n",
    "* number of deciles `step=10`\n",
    "\n"
   ]
  },
  {
   "cell_type": "code",
   "execution_count": 2,
   "metadata": {},
   "outputs": [
    {
     "name": "stdout",
     "output_type": "stream",
     "text": [
      "processing scan  data_examples/CC0358/T1.nii.gz\n",
      "processing scan  data_examples/CC0357/T1.nii.gz\n",
      "processing scan  data_examples/CC0006/T1.nii.gz\n",
      "processing scan  data_examples/CC0356/T1.nii.gz\n",
      "processing scan  data_examples/CC0140/T1.nii.gz\n",
      "processing scan  data_examples/CC0139/T1.nii.gz\n",
      "processing scan  data_examples/CC0002/T1.nii.gz\n",
      "processing scan  data_examples/CC0001/T1.nii.gz\n",
      "processing scan  data_examples/CC0226/T1.nii.gz\n",
      "processing scan  data_examples/CC0228/T1.nii.gz\n"
     ]
    }
   ],
   "source": [
    "standard_scale, perc = nyul_train_standard_scale(train_scans, mask_scans)"
   ]
  },
  {
   "cell_type": "markdown",
   "metadata": {},
   "source": [
    "## Save the standard histogram:\n",
    "\n",
    "Save the histogram to apply it to unseen images afterwards:"
   ]
  },
  {
   "cell_type": "code",
   "execution_count": 3,
   "metadata": {},
   "outputs": [],
   "source": [
    "standard_path = 'histograms/standard_test.npy'\n",
    "np.save(standard_path, [standard_scale, perc])"
   ]
  },
  {
   "cell_type": "markdown",
   "metadata": {},
   "source": [
    "## Apply intensity normalization to new images:\n",
    "\n",
    "Finally, the learned histogram can be applied to new images. Here, we just use the same images before and after normalization as an example. "
   ]
  },
  {
   "cell_type": "code",
   "execution_count": 5,
   "metadata": {},
   "outputs": [
    {
     "data": {
      "text/plain": [
       "Text(0.5, 1.0, 'Image 1 Normalized')"
      ]
     },
     "execution_count": 5,
     "metadata": {},
     "output_type": "execute_result"
    },
    {
     "data": {
      "image/png": "[encoded data removed]",
      "text/plain": [
       "<Figure size 432x288 with 2 Axes>"
      ]
     },
     "metadata": {
      "needs_background": "light"
     },
     "output_type": "display_data"
    }
   ],
   "source": [
    "from nyul import nyul_apply_standard_scale\n",
    "import matplotlib.pyplot as plt\n",
    "\n",
    "image_1 = nib.load(train_scans[0]).get_data()\n",
    "mask_1 = nib.load(mask_scans[0]).get_data()\n",
    "image_1_norm = nyul_apply_standard_scale(image_1, standard_path, input_mask=mask_1)\n",
    "\n",
    "fig, axs = plt.subplots(2, 1, constrained_layout=True)\n",
    "f1 = axs[0].hist(image_1.flatten(), bins=64, range=(-10,600))\n",
    "f2 = axs[1].hist(image_1_norm.flatten(), bins=64, range=(-10,200))\n",
    "axs[0].set_title('Image 1 Original')\n",
    "axs[0].set_title('Image 1 Normalized')\n"
   ]
  }
 ],
 "metadata": {
  "kernelspec": {
   "display_name": "Python 3",
   "language": "python",
   "name": "python3"
  },
  "language_info": {
   "codemirror_mode": {
    "name": "ipython",
    "version": 3
   },
   "file_extension": ".py",
   "mimetype": "text/x-python",
   "name": "python",
   "nbconvert_exporter": "python",
   "pygments_lexer": "ipython3",
   "version": "3.7.3"
  }
 },
 "nbformat": 4,
 "nbformat_minor": 2
}
